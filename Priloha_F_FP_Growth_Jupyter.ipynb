{
 "cells": [
  {
   "cell_type": "code",
   "execution_count": null,
   "id": "fc6d215a",
   "metadata": {},
   "outputs": [],
   "source": [
    "import fim\n",
    "import pyarc\n",
    "from pyarc import TransactionDB\n",
    "from pyarc.qcba.data_structures import *\n",
    "from pyarc.algorithms import *"
   ]
  },
  {
   "cell_type": "code",
   "execution_count": null,
   "id": "869d1317",
   "metadata": {},
   "outputs": [],
   "source": [
    "import pandas as pd\n",
    "df = pd.read_csv ('file.csv') #insert the name of the file here\n",
    "df"
   ]
  },
  {
   "cell_type": "code",
   "execution_count": null,
   "id": "45a319ff",
   "metadata": {},
   "outputs": [],
   "source": [
    "txns = TransactionDB.from_DataFrame(df)\n",
    "txns"
   ]
  },
  {
   "cell_type": "code",
   "execution_count": null,
   "id": "09013159",
   "metadata": {},
   "outputs": [],
   "source": [
    "support=-2 #is the same as supp/rowcount=2/4=50%\n",
    "maxlen=7\n",
    "    \n",
    "freqItemsets = fim.fpgrowth(txns, supp=support, zmax=maxlen)\n",
    "freqItemsets"
   ]
  }
 ],
 "metadata": {
  "kernelspec": {
   "display_name": "Python 3 (ipykernel)",
   "language": "python",
   "name": "python3"
  },
  "language_info": {
   "codemirror_mode": {
    "name": "ipython",
    "version": 3
   },
   "file_extension": ".py",
   "mimetype": "text/x-python",
   "name": "python",
   "nbconvert_exporter": "python",
   "pygments_lexer": "ipython3",
   "version": "3.10.10"
  }
 },
 "nbformat": 4,
 "nbformat_minor": 5
}
